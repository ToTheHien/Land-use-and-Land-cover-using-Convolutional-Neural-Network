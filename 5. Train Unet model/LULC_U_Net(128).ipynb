{
  "nbformat": 4,
  "nbformat_minor": 0,
  "metadata": {
    "accelerator": "GPU",
    "colab": {
      "name": "LULC_U-Net(256).ipynb",
      "provenance": []
    },
    "kernelspec": {
      "display_name": "Python 3",
      "name": "python3"
    },
    "language_info": {
      "name": "python"
    }
  },
  "cells": [
    {
      "cell_type": "code",
      "metadata": {
        "id": "Ua9xebqU1utz"
      },
      "source": [
        "# mount to your drive\n",
        "from google.colab import drive\n",
        "drive.mount('/content/drive')"
      ],
      "execution_count": null,
      "outputs": []
    },
    {
      "cell_type": "code",
      "metadata": {
        "id": "Zkk2DXts9Pfl"
      },
      "source": [
        "!pip install -q condacolab\n",
        "import condacolab\n",
        "condacolab.install()"
      ],
      "execution_count": null,
      "outputs": []
    },
    {
      "cell_type": "code",
      "metadata": {
        "id": "9ifhPsczfGqH"
      },
      "source": [
        "!conda install -c esri arcgis=1.8.2 pillow scikit-image"
      ],
      "execution_count": null,
      "outputs": []
    },
    {
      "cell_type": "code",
      "metadata": {
        "colab": {
          "background_save": true
        },
        "id": "xw3r5pgSffzZ"
      },
      "source": [
        "!conda install gdal"
      ],
      "execution_count": null,
      "outputs": []
    },
    {
      "cell_type": "code",
      "metadata": {
        "colab": {
          "background_save": true
        },
        "id": "X9UCaFiJfeA7"
      },
      "source": [
        "!pip install fastai pytorch torchvision==0.5.0 "
      ],
      "execution_count": null,
      "outputs": []
    },
    {
      "cell_type": "code",
      "metadata": {
        "id": "di3S-AHcU0xY"
      },
      "source": [
        "!pip install tensorflow-gpu==2.1.0"
      ],
      "execution_count": null,
      "outputs": []
    },
    {
      "cell_type": "code",
      "metadata": {
        "id": "YU8z7djqLGZ2"
      },
      "source": [
        "from arcgis.learn import *"
      ],
      "execution_count": null,
      "outputs": []
    },
    {
      "cell_type": "code",
      "metadata": {
        "id": "jmzWajG1r4Is"
      },
      "source": [
        "import zipfile\n",
        "\n",
        "# Extract zip file of the train dataset\n",
        "local_zip = '/content/drive/MyDrive/256.zip'\n",
        "zip_ref = zipfile.ZipFile(local_zip, 'r')\n",
        "zip_ref.extractall('/content/drive/MyDrive/')\n",
        "zip_ref.close()"
      ],
      "execution_count": null,
      "outputs": []
    },
    {
      "cell_type": "code",
      "metadata": {
        "id": "zTVAfdKAsCKI"
      },
      "source": [
        "import os\n",
        "base_dir = '/content/drive/MyDrive/256'\n",
        "data_path = os.path.join(base_dir)\n",
        "data = prepare_data(path=data_path, chip_size=256, batch_size=4)"
      ],
      "execution_count": null,
      "outputs": []
    },
    {
      "cell_type": "code",
      "metadata": {
        "id": "zNVWPHu9i3BV"
      },
      "source": [
        "# Visualize a randim batch from the training set to make\n",
        "# sure the data is loaded correctly and ready for training\n",
        "\n",
        "data.show_batch(alpha=0.8)"
      ],
      "execution_count": null,
      "outputs": []
    },
    {
      "cell_type": "code",
      "metadata": {
        "id": "Bz4UJg98jHqJ"
      },
      "source": [
        "# Instantiating unet model\n",
        "unet_model = UnetClassifier(data, backbone='resnet34', ignore_classes=[0])"
      ],
      "execution_count": null,
      "outputs": []
    },
    {
      "cell_type": "code",
      "metadata": {
        "id": "nJ35x4ETjOMr"
      },
      "source": [
        "# Note randomly looking segmentation masks in the right column\n",
        "unet_model.show_results(rows=5, alpha=1)"
      ],
      "execution_count": null,
      "outputs": []
    },
    {
      "cell_type": "code",
      "metadata": {
        "id": "GqZ5xy3BjbW6"
      },
      "source": [
        "# Learning Rate Finder determines the optimal learning rate\n",
        "op_lr = unet_model.lr_find()"
      ],
      "execution_count": null,
      "outputs": []
    },
    {
      "cell_type": "code",
      "metadata": {
        "id": "3L7SwdRLeybI"
      },
      "source": [
        "unet_model.learn.summary()"
      ],
      "execution_count": null,
      "outputs": []
    },
    {
      "cell_type": "code",
      "metadata": {
        "id": "FAX4eRYYjpzu"
      },
      "source": [
        "unet_model.fit(5, lr=op_lr)"
      ],
      "execution_count": null,
      "outputs": []
    },
    {
      "cell_type": "code",
      "metadata": {
        "id": "fqi8G1cz-rTI"
      },
      "source": [
        "unet_model.plot_losses()"
      ],
      "execution_count": null,
      "outputs": []
    },
    {
      "cell_type": "code",
      "metadata": {
        "id": "pOuIofRdkevL"
      },
      "source": [
        "unet_model.show_results(rows=5, alpha=0.9)"
      ],
      "execution_count": null,
      "outputs": []
    },
    {
      "cell_type": "markdown",
      "metadata": {
        "id": "WtbMr_dnlEWH"
      },
      "source": [
        "**Further Training**"
      ]
    },
    {
      "cell_type": "code",
      "metadata": {
        "id": "50nrnTVMlILY"
      },
      "source": [
        "unet_model.fit(20, lr=slice(1e-03, 1e-05))"
      ],
      "execution_count": null,
      "outputs": []
    },
    {
      "cell_type": "code",
      "metadata": {
        "id": "VejjnE4E-suU"
      },
      "source": [
        "unet_model.plot_losses()"
      ],
      "execution_count": null,
      "outputs": []
    },
    {
      "cell_type": "code",
      "metadata": {
        "id": "KQrjEUP6lM80"
      },
      "source": [
        "# Compare the predictions and corresponding ground truths\n",
        "unet_model.show_results(rows=5, alpha=0.9)"
      ],
      "execution_count": null,
      "outputs": []
    },
    {
      "cell_type": "code",
      "metadata": {
        "id": "MUleSk2dAf4j"
      },
      "source": [
        "# Table of F1-score\n",
        "unet_model.per_class_metrics()"
      ],
      "execution_count": null,
      "outputs": []
    },
    {
      "cell_type": "code",
      "metadata": {
        "colab": {
          "base_uri": "https://localhost:8080/"
        },
        "id": "DHLmT-u4l8gv",
        "outputId": "28462438-eba2-4916-efbd-30ff0f1067f8"
      },
      "source": [
        "# Save trained model\n",
        "unet_model.save('/content/drive/MyDrive/2021')"
      ],
      "execution_count": null,
      "outputs": [
        {
          "data": {
            "text/plain": [
              "PosixPath('/content/drive/MyDrive/2021')"
            ]
          },
          "execution_count": 8,
          "metadata": {
            "tags": []
          },
          "output_type": "execute_result"
        }
      ]
    }
  ]
}